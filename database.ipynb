{
 "cells": [
  {
   "cell_type": "code",
   "execution_count": 20,
   "id": "05fe117d",
   "metadata": {},
   "outputs": [
    {
     "ename": "ImportError",
     "evalue": "cannot import name 'ShowsDBCRUD' from 'crud' (C:\\anaconda\\lib\\site-packages\\crud\\__init__.py)",
     "output_type": "error",
     "traceback": [
      "\u001b[1;31m---------------------------------------------------------------------------\u001b[0m",
      "\u001b[1;31mImportError\u001b[0m                               Traceback (most recent call last)",
      "\u001b[1;32m<ipython-input-20-3bcf4d0a13a7>\u001b[0m in \u001b[0;36m<module>\u001b[1;34m\u001b[0m\n\u001b[0;32m      1\u001b[0m \u001b[1;32mimport\u001b[0m \u001b[0mdata\u001b[0m \u001b[1;32mas\u001b[0m \u001b[0mdata\u001b[0m\u001b[1;33m\u001b[0m\u001b[1;33m\u001b[0m\u001b[0m\n\u001b[0;32m      2\u001b[0m \u001b[1;33m\u001b[0m\u001b[0m\n\u001b[1;32m----> 3\u001b[1;33m \u001b[1;32mfrom\u001b[0m \u001b[0mcrud\u001b[0m \u001b[1;32mimport\u001b[0m \u001b[0mShowsDBCRUD\u001b[0m\u001b[1;33m\u001b[0m\u001b[1;33m\u001b[0m\u001b[0m\n\u001b[0m\u001b[0;32m      4\u001b[0m \u001b[1;32mfrom\u001b[0m \u001b[0mflask\u001b[0m \u001b[1;32mimport\u001b[0m \u001b[0mjsonify\u001b[0m\u001b[1;33m\u001b[0m\u001b[1;33m\u001b[0m\u001b[0m\n\u001b[0;32m      5\u001b[0m \u001b[1;33m\u001b[0m\u001b[0m\n",
      "\u001b[1;31mImportError\u001b[0m: cannot import name 'ShowsDBCRUD' from 'crud' (C:\\anaconda\\lib\\site-packages\\crud\\__init__.py)"
     ]
    }
   ],
   "source": [
    "import data as data\n",
    "\n",
    "from crud import ShowsDBCRUD\n",
    "from flask import jsonify\n",
    "\n",
    "\n",
    "class ShowsData:\n",
    "    def __init__(self):\n",
    "        self.db = ShowsDBCRUD()\n",
    "\n",
    "    def view_all_shows(self, args):\n",
    "        print('view_all_shows database.py')\n",
    "        limit = args.get('limit')\n",
    "        offset = args.get('offset')\n",
    "        sort_by = args.get('sortBy')\n",
    "        data = self.db.view_all_shows(limit, offset, sort_by)\n",
    "        data = jsonify(data)\n",
    "        print('here', data)\n",
    "        return data\n",
    "\n",
    "    def search_shows_by_title(self, search_phrase):\n",
    "        print('search_shows_by_title database.py', search_phrase)\n",
    "        data = self.db.search_shows_by_title(search_phrase)\n",
    "        data = jsonify(data)\n",
    "        print(f'{data} {search_phrase}')\n",
    "        return data\n",
    "\n",
    "    def filter_shows(self, args):\n",
    "        print('filter_shows database.py', args)\n",
    "        limit = args.get('limit')\n",
    "        offset = args.get('offset')\n",
    "        if args.get('country'):\n",
    "            country = args.get('country')\n",
    "            data = self.db.filter_shows_by_country(country, limit, offset)\n",
    "        elif args.get('rating'):\n",
    "            rating = args.get('rating')\n",
    "            data = self.db.filter_shows_by_rating(rating, limit, offset)\n",
    "        elif args.get('release_year'):\n",
    "            release_year = args.get('release_year')\n",
    "            data = self.db.filter_shows_by_rating(release_year, limit, offset)\n",
    "        data = jsonify(data)\n",
    "        return data\n",
    "\n",
    "    def update_show_type(self, args):\n",
    "        show_type = args.get('show_type')\n",
    "        show_id = args.get('show_id')\n",
    "        print('update_show_type database.py', show_type, show_id)\n",
    "        data = self.db.update_show_type(show_type, show_id)\n",
    "        data = jsonify(data)\n",
    "        return data\n",
    "\n",
    "    def delete_show_by_id(self, args):\n",
    "        show_type = args.get('show_type')\n",
    "        show_id = args.get('show_id')\n",
    "        print('delete_show_by_id database.py', show_id)\n",
    "        data = self.db.delete_show_by_id(show_id)\n",
    "        data = jsonify(data)\n",
    "        return data\n",
    "\n",
    "    def insert_show(self, args):\n",
    "        type = args.get('show_type')\n",
    "        show_id = args.get('show_id')\n",
    "        title = args.get('title')\n",
    "        director = args.get('director')\n",
    "        cast = args.get('cast')\n",
    "        country = args.get('country')\n",
    "        date_added = args.get('date_added')\n",
    "        release_year = args.get('release_year')\n",
    "        rating = args.get('rating')\n",
    "        duration = args.get('duration')\n",
    "        listed_in = args.get('listed_in')\n",
    "        description = args.get('descripion')\n",
    "        print('insert_show database.py', show_id)\n",
    "        data = self.db.insert_show( show_id, type, title, director, cast, country,date_added, release_year, rating, duration, listed_in, description)\n",
    "        data = jsonify(data)\n",
    "        return data"
   ]
  },
  {
   "cell_type": "code",
   "execution_count": null,
   "id": "570e727f",
   "metadata": {},
   "outputs": [],
   "source": []
  },
  {
   "cell_type": "code",
   "execution_count": null,
   "id": "d99ceef0",
   "metadata": {},
   "outputs": [],
   "source": []
  }
 ],
 "metadata": {
  "kernelspec": {
   "display_name": "Python 3",
   "language": "python",
   "name": "python3"
  },
  "language_info": {
   "codemirror_mode": {
    "name": "ipython",
    "version": 3
   },
   "file_extension": ".py",
   "mimetype": "text/x-python",
   "name": "python",
   "nbconvert_exporter": "python",
   "pygments_lexer": "ipython3",
   "version": "3.8.8"
  }
 },
 "nbformat": 4,
 "nbformat_minor": 5
}
