{
 "cells": [
  {
   "cell_type": "code",
   "execution_count": 1,
   "id": "92c7e491",
   "metadata": {},
   "outputs": [
    {
     "name": "stderr",
     "output_type": "stream",
     "text": [
      "E\n",
      "======================================================================\n",
      "ERROR: C:\\Users\\My PC\\AppData\\Roaming\\jupyter\\runtime\\kernel-da9a4e49-b2e6-45b5-85ca-fe894fee3efd (unittest.loader._FailedTest)\n",
      "----------------------------------------------------------------------\n",
      "AttributeError: module '__main__' has no attribute 'C:\\Users\\My PC\\AppData\\Roaming\\jupyter\\runtime\\kernel-da9a4e49-b2e6-45b5-85ca-fe894fee3efd'\n",
      "\n",
      "----------------------------------------------------------------------\n",
      "Ran 1 test in 0.004s\n",
      "\n",
      "FAILED (errors=1)\n"
     ]
    },
    {
     "ename": "SystemExit",
     "evalue": "True",
     "output_type": "error",
     "traceback": [
      "An exception has occurred, use %tb to see the full traceback.\n",
      "\u001b[1;31mSystemExit\u001b[0m\u001b[1;31m:\u001b[0m True\n"
     ]
    },
    {
     "name": "stderr",
     "output_type": "stream",
     "text": [
      "C:\\anaconda\\lib\\site-packages\\IPython\\core\\interactiveshell.py:3445: UserWarning: To exit: use 'exit', 'quit', or Ctrl-D.\n",
      "  warn(\"To exit: use 'exit', 'quit', or Ctrl-D.\", stacklevel=1)\n"
     ]
    }
   ],
   "source": [
    "import requests\n",
    "import unittest\n",
    "\n",
    "\n",
    "class TestNetflixShowsAPI(unittest.TestCase):\n",
    "\n",
    "    def test_upper(self):\n",
    "        self.assertEqual('foo'.upper(), 'FOO')\n",
    "\n",
    "    def test_view_all_shows(self):\n",
    "        response = requests.get('http://127.0.0.1:5000/viewAllShows?limit=5&offset=1&sortBy=ASC')\n",
    "        actual_length = len(response.json())\n",
    "        expected_length = 5\n",
    "        self.assertEqual(actual_length, expected_length)\n",
    "\n",
    "    def test_create_new_show(self):\n",
    "        url = \"http://127.0.0.1:5000/insertShow\"\n",
    "        data = {\"show_id\": 11229988,\n",
    "                \"type\": \"Movie\",\n",
    "                \"title\": \"Test1\",\n",
    "                \"director\": \"Test1\",\n",
    "                \"cast\": \"Test1\",\n",
    "                \"country\": \"Test1\",\n",
    "                \"date_added\": \"2021-02-08\",\n",
    "                \"release_year\": 2021,\n",
    "                \"rating\": \"PG\",\n",
    "                \"duration\": \"Test1\",\n",
    "                \"listed_in\": \"Test1\",\n",
    "                \"description\": \"Test1\"}\n",
    "        response = requests.post(url, data=data)\n",
    "        self.assertEqual(response.status_code,201)\n",
    "\n",
    "    def test_modify_show(self):\n",
    "        url = \"http://127.0.0.1:5000/updateShowType\"\n",
    "        data = {\"show_id\": 11229988,\n",
    "                \"show_type\": \"TV Show\"}\n",
    "        response = requests.put(url, data=data)\n",
    "        self.assertEqual(response.status_code, 201)\n",
    "\n",
    "    def test_delete_show(self):\n",
    "        url = \"http://127.0.0.1:5000/deleteShowById\"\n",
    "        data = {\"show_id\": 11229988}\n",
    "        response = requests.delete(url, data=data)\n",
    "        self.assertEqual(response.status_code, 201)\n",
    "\n",
    "\n",
    "if __name__ == '__main__':\n",
    "    unittest.main()"
   ]
  },
  {
   "cell_type": "code",
   "execution_count": null,
   "id": "df3419bb",
   "metadata": {},
   "outputs": [],
   "source": []
  }
 ],
 "metadata": {
  "kernelspec": {
   "display_name": "Python 3",
   "language": "python",
   "name": "python3"
  },
  "language_info": {
   "codemirror_mode": {
    "name": "ipython",
    "version": 3
   },
   "file_extension": ".py",
   "mimetype": "text/x-python",
   "name": "python",
   "nbconvert_exporter": "python",
   "pygments_lexer": "ipython3",
   "version": "3.8.8"
  }
 },
 "nbformat": 4,
 "nbformat_minor": 5
}
